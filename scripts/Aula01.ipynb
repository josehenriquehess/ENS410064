{
 "cells": [
  {
   "cell_type": "markdown",
   "id": "c3e5fd7a-e9ec-423e-98b2-6ac6e286210f",
   "metadata": {},
   "source": [
    "# Aula 1 - Python em Aplicações Ambientais"
   ]
  },
  {
   "cell_type": "markdown",
   "id": "7d5d1031-4b73-4365-8973-24d953948454",
   "metadata": {},
   "source": [
    "Iremos agora instalar a biblioteca que usaremos na próxima aula para importar e analisar nossa série temporal: pandas\n",
    "\n",
    "Para instalar pacotes aqui, no Jupyter, vamos usar a notação \"!\", sem aspas, e o comando da instalação."
   ]
  },
  {
   "cell_type": "code",
   "execution_count": 3,
   "id": "17522e96-97e4-4e4a-9b39-8cf0b0b7885d",
   "metadata": {},
   "outputs": [],
   "source": [
    "import pandas as pd"
   ]
  },
  {
   "cell_type": "code",
   "execution_count": null,
   "id": "d059af3e-a30e-404f-bea7-e1d51d65697e",
   "metadata": {},
   "outputs": [],
   "source": [
    "df_MG1 = pd.read_excel(r\"C:\\PosGraduacao\\ENS410064\\dados\\aula01\\MG.xlsx\")"
   ]
  },
  {
   "cell_type": "code",
   "execution_count": null,
   "id": "5492ee7f-3232-44b5-b35a-d2c61b9ae018",
   "metadata": {},
   "outputs": [],
   "source": [
    "df_MG2 = pd.read_excel(r\"C:\\PosGraduacao\\ENS410064\\dados\\aula01\\MG2.xlsx\")"
   ]
  },
  {
   "cell_type": "code",
   "execution_count": null,
   "id": "2b36be8d-606b-42ec-8db8-c8f4876655c6",
   "metadata": {},
   "outputs": [],
   "source": [
    "df_MG = pd.concat([df_MG1,df_MG2], axis=0)"
   ]
  },
  {
   "cell_type": "code",
   "execution_count": null,
   "id": "b57d6525-e2b7-459e-9d06-aaa16d74ec38",
   "metadata": {},
   "outputs": [],
   "source": []
  }
 ],
 "metadata": {
  "kernelspec": {
   "display_name": "Python 3 (ipykernel)",
   "language": "python",
   "name": "python3"
  },
  "language_info": {
   "codemirror_mode": {
    "name": "ipython",
    "version": 3
   },
   "file_extension": ".py",
   "mimetype": "text/x-python",
   "name": "python",
   "nbconvert_exporter": "python",
   "pygments_lexer": "ipython3",
   "version": "3.11.8"
  }
 },
 "nbformat": 4,
 "nbformat_minor": 5
}
