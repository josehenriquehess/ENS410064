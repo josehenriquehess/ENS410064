{
 "cells": [
  {
   "cell_type": "code",
   "execution_count": 1,
   "id": "f10ccf0d-5032-40ec-8375-a5b5ce01bec3",
   "metadata": {},
   "outputs": [],
   "source": [
    "# Teste Código\n"
   ]
  },
  {
   "cell_type": "code",
   "execution_count": 2,
   "id": "6e63ae5c-3a10-4813-bc4f-695cd10db111",
   "metadata": {},
   "outputs": [
    {
     "name": "stdout",
     "output_type": "stream",
     "text": [
      "1\n"
     ]
    }
   ],
   "source": [
    "a = 1\n",
    "print(a)"
   ]
  },
  {
   "cell_type": "code",
   "execution_count": null,
   "id": "16ea563f-74ec-4600-8b42-33ec8f2e3f20",
   "metadata": {},
   "outputs": [],
   "source": []
  }
 ],
 "metadata": {
  "kernelspec": {
   "display_name": "Python 3 (ipykernel)",
   "language": "python",
   "name": "python3"
  },
  "language_info": {
   "codemirror_mode": {
    "name": "ipython",
    "version": 3
   },
   "file_extension": ".py",
   "mimetype": "text/x-python",
   "name": "python",
   "nbconvert_exporter": "python",
   "pygments_lexer": "ipython3",
   "version": "3.11.8"
  }
 },
 "nbformat": 4,
 "nbformat_minor": 5
}
