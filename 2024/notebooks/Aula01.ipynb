{
 "cells": [
  {
   "cell_type": "markdown",
   "id": "36fb3c54-3cab-40c6-9117-b0e66f996525",
   "metadata": {},
   "source": [
    "# Aula 01\n",
    "Nesta aula vamos trabalhar com os comandos básicos do Python.\n",
    "\n",
    "- Tipo de variáveis\n",
    "- Operação matemáticas\n",
    "- Uso de pacotes\n",
    "- Numpy array\n",
    "- Condições"
   ]
  },
  {
   "cell_type": "markdown",
   "id": "3d6bd05d-5351-4d28-a6de-9457a118e4d7",
   "metadata": {},
   "source": [
    "## Tipos de variáveis"
   ]
  },
  {
   "cell_type": "code",
   "execution_count": 4,
   "id": "949f24f1-044e-495f-92be-f0f914898ef6",
   "metadata": {},
   "outputs": [
    {
     "name": "stdout",
     "output_type": "stream",
     "text": [
      "O valor de a é igual a 1 funcionou após transforma em uma string\n",
      "<class 'int'>\n"
     ]
    }
   ],
   "source": [
    "# números inteiros - int - integer\n",
    "\n",
    "a = 1\n",
    "\n",
    "# Printa na tela\n",
    "print('O valor de a é igual a ' + str(a) + ' funcionou após transforma em uma string')\n",
    "\n",
    "print(type(a))"
   ]
  },
  {
   "cell_type": "code",
   "execution_count": 7,
   "id": "7ea49a8e-6af0-49f4-bbc9-0040e973a5ce",
   "metadata": {},
   "outputs": [
    {
     "name": "stdout",
     "output_type": "stream",
     "text": [
      "O valor de b é igual a 13.1416 (funcionou após transforma em uma string)\n",
      "<class 'float'>\n"
     ]
    }
   ],
   "source": [
    "# números reais - float - double - double precision\n",
    "\n",
    "b = 13.1416\n",
    "\n",
    "# Printa na tela\n",
    "print('O valor de b é igual a ' + str(b) + ' (funcionou após transforma em uma string)')\n",
    "\n",
    "print(type(b))"
   ]
  },
  {
   "cell_type": "code",
   "execution_count": 8,
   "id": "e7028771-6739-482e-9b5d-8ab326826c98",
   "metadata": {},
   "outputs": [
    {
     "name": "stdout",
     "output_type": "stream",
     "text": [
      "Bianca está fazendo bagunça com ajuda de Bruno e Ana Julia\n",
      "<class 'str'>\n"
     ]
    }
   ],
   "source": [
    "# texto - char - string\n",
    "\n",
    "c = 'Bianca está fazendo bagunça'\n",
    "d = ' com ajuda de '\n",
    "e = 'Bruno e Ana Julia'\n",
    "\n",
    "print(c+d+e)\n",
    "print(type(c))\n"
   ]
  },
  {
   "cell_type": "code",
   "execution_count": 28,
   "id": "6316244e-dcc1-4b0d-9809-d5d573e75028",
   "metadata": {},
   "outputs": [
    {
     "name": "stdout",
     "output_type": "stream",
     "text": [
      "['Marcos', 'Maria Eduarda', 'Djesser', 'Rafael']\n",
      "<class 'list'>\n",
      "O tamanho da lista é 4\n",
      "[10, 10, 10, 6, 'José', 'Marcos', 'Rafael', 'Bruno']\n"
     ]
    }
   ],
   "source": [
    "# Lista de texto \n",
    "\n",
    "namesList = ['Marcos', 'Maria Eduarda', 'Djesser', 'Rafael']\n",
    "\n",
    "print(namesList)\n",
    "\n",
    "print(type(namesList))\n",
    "\n",
    "# comando para identificar o tamanho da lista\n",
    "print('O tamanho da lista é ' + str(len(namesList)))\n",
    "\n",
    "# Agora, uma lista de números e strings\n",
    "\n",
    "numNameList = [10,10,10,6,'José','Marcos','Rafael','Bruno']\n",
    "\n",
    "print(numNameList)"
   ]
  },
  {
   "cell_type": "code",
   "execution_count": 29,
   "id": "d48b2746-0e5a-41b6-8aba-8e3bbbbbbe48",
   "metadata": {},
   "outputs": [
    {
     "name": "stdout",
     "output_type": "stream",
     "text": [
      "Marcos\n",
      "<class 'str'>\n"
     ]
    }
   ],
   "source": [
    "# Acessando os valores da lista\n",
    "\n",
    "# Acessando o primeiro valor da lista namesList\n",
    "print(namesList[0])\n",
    "\n",
    "# Determina o tipo da variável na posição 0 da lista\n",
    "print(type(namesList[0]))"
   ]
  },
  {
   "cell_type": "code",
   "execution_count": 41,
   "id": "26c0db75-404a-49a7-80f6-4bf188b7ffd4",
   "metadata": {},
   "outputs": [
    {
     "name": "stdout",
     "output_type": "stream",
     "text": [
      "{'name': ['Marcos', 'Larissa', 'Daphne'], 'Altura': [1.95, 1.67, 1.63]}\n"
     ]
    },
    {
     "data": {
      "text/plain": [
       "'Larissa'"
      ]
     },
     "execution_count": 41,
     "metadata": {},
     "output_type": "execute_result"
    }
   ],
   "source": [
    "# Dicionários\n",
    "\n",
    "namesDict = {\n",
    "    'name': ['Marcos', 'Larissa', 'Daphne'],\n",
    "    'Altura': [1.95, 1.67, 1.63]\n",
    " }\n",
    "\n",
    "print(namesDict)\n",
    "\n",
    "# Extraindo os valores da variáveis Altura dentro do dicionário namesDict\n",
    "\n",
    "namesDict['Altura']\n",
    "\n",
    "# Extraindo o segundo valor da variável Altura dentro do dicionário namesDict\n",
    "\n",
    "namesDict['name'][1]\n"
   ]
  },
  {
   "cell_type": "code",
   "execution_count": 47,
   "id": "b9ab038f-34d9-45fb-9ca3-5f5aef41a1e5",
   "metadata": {},
   "outputs": [
    {
     "name": "stdout",
     "output_type": "stream",
     "text": [
      "1.95\n",
      "1.67\n",
      "1.63\n",
      "A soma das alturas é = 5.25\n",
      "Índice da matriz é 0 e a altura de Marcos é 1.95\n",
      "Índice da matriz é 1 e a altura de Larissa é 1.67\n",
      "Índice da matriz é 2 e a altura de Daphne é 1.63\n"
     ]
    }
   ],
   "source": [
    "# Soma das altura do dicionário namesDict utilizando loop\n",
    "\n",
    "somaDasAlturas = 0\n",
    "\n",
    "for alturas in namesDict['Altura']:\n",
    "    print(alturas)\n",
    "    somaDasAlturas = somaDasAlturas + alturas\n",
    "print('A soma das alturas é = ' + str(somaDasAlturas))\n",
    "\n",
    "# Usando outra forma de loop\n",
    "for ii,alturas in enumerate(namesDict['Altura']):\n",
    "    print('Índice da matriz é ' + str(ii) + ' e a altura de ' + str(namesDict['name'][ii])  + ' é ' + str(alturas))"
   ]
  },
  {
   "cell_type": "code",
   "execution_count": null,
   "id": "a3289220-95ca-498e-b942-f1e96e9585ca",
   "metadata": {},
   "outputs": [],
   "source": []
  }
 ],
 "metadata": {
  "kernelspec": {
   "display_name": "Python 3 (ipykernel)",
   "language": "python",
   "name": "python3"
  },
  "language_info": {
   "codemirror_mode": {
    "name": "ipython",
    "version": 3
   },
   "file_extension": ".py",
   "mimetype": "text/x-python",
   "name": "python",
   "nbconvert_exporter": "python",
   "pygments_lexer": "ipython3",
   "version": "3.11.8"
  }
 },
 "nbformat": 4,
 "nbformat_minor": 5
}
